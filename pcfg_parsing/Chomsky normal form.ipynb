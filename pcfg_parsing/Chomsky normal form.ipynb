{
 "cells": [
  {
   "cell_type": "markdown",
   "metadata": {},
   "source": [
    "# Chomsky normal form\n",
    "## Converting trees in a treebank to CNF"
   ]
  },
  {
   "cell_type": "markdown",
   "metadata": {},
   "source": [
    "## Tree representation\n",
    "\n",
    "To have more control over tree transformation and additional features like loading, saving and visualizing them, trees are represented by their own class."
   ]
  },
  {
   "cell_type": "code",
   "execution_count": 43,
   "metadata": {},
   "outputs": [
    {
     "data": {
      "image/png": "[encoded data removed]",
      "text/plain": [
       "Tree('S', [Tree('NNP', ['Pierre']), Tree('NNP', ['Vinken'])])"
      ]
     },
     "metadata": {},
     "output_type": "display_data"
    },
    {
     "data": {
      "text/plain": [
       "True"
      ]
     },
     "execution_count": 43,
     "metadata": {},
     "output_type": "execute_result"
    }
   ],
   "source": [
    "import json\n",
    "import nltk.tree\n",
    "import IPython.display\n",
    "\n",
    "class Tree(object):\n",
    "    \n",
    "    def __init__(self, text: str=None):\n",
    "        if text:\n",
    "            self.load(text)\n",
    "        else:\n",
    "            self.structure = []\n",
    "            \n",
    "    def load(self, text: str):\n",
    "        self.structure = json.loads(text)\n",
    "        \n",
    "    def save(self) -> str:\n",
    "        return json.dumps(self.structure)\n",
    "    \n",
    "    def visualize(self):\n",
    "        IPython.display.display(self.to_nltk_tree())\n",
    "        \n",
    "    def to_nltk_tree(self) -> nltk.tree.Tree:\n",
    "        as_str = self.save()\n",
    "        # Transform the string representation of the tree\n",
    "        # to the string representation of an NLTK tree \n",
    "        as_str = as_str.replace(\"[\", \"(\").replace(\"]\", \")\")\n",
    "        as_str = as_str.replace('\",\"', \"_COMMA_\").replace(\",\", \"\")\n",
    "        as_str = as_str.replace(\"_COMMA_\", \",\").replace('\"', \"\")\n",
    "        return nltk.tree.Tree.fromstring(as_str)\n",
    "    \n",
    "    def __repr__(self) -> str:\n",
    "        return self.save()\n",
    "    \n",
    "    def is_cnf(self, tree=None) -> bool:\n",
    "        \"\"\"\n",
    "        Returns true, if the tree is in CNF.\n",
    "        Adapted from starter code.\n",
    "        \"\"\"\n",
    "        if tree is None:\n",
    "            tree = self.structure\n",
    "        n = len(tree)\n",
    "        if n == 2:\n",
    "            return isinstance(tree[1], str)\n",
    "        elif n == 3:\n",
    "            return self.is_cnf(tree[1]) and self.is_cnf(tree[2])\n",
    "        else:\n",
    "            return False\n",
    "        \n",
    "t = '[\"S\", [\"NNP\", \"Pierre\"], [\"NNP\", \"Vinken\"]]'\n",
    "\n",
    "tree = Tree(t)\n",
    "tree.visualize()\n",
    "tree.is_cnf()"
   ]
  },
  {
   "cell_type": "code",
   "execution_count": null,
   "metadata": {},
   "outputs": [],
   "source": []
  },
  {
   "cell_type": "code",
   "execution_count": 3,
   "metadata": {},
   "outputs": [],
   "source": []
  }
 ],
 "metadata": {
  "kernelspec": {
   "display_name": "Python 3",
   "language": "python",
   "name": "python3"
  },
  "language_info": {
   "codemirror_mode": {
    "name": "ipython",
    "version": 3
   },
   "file_extension": ".py",
   "mimetype": "text/x-python",
   "name": "python",
   "nbconvert_exporter": "python",
   "pygments_lexer": "ipython3",
   "version": "3.6.1"
  }
 },
 "nbformat": 4,
 "nbformat_minor": 2
}
